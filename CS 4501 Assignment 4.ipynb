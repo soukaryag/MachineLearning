{
 "cells": [
  {
   "cell_type": "markdown",
   "metadata": {
    "colab_type": "text",
    "id": "-40VPC7MAGGB"
   },
   "source": [
    "# Assignment 4: Benchmarking Fashion-MNIST with Deep Neural Nets"
   ]
  },
  {
   "cell_type": "markdown",
   "metadata": {
    "colab_type": "text",
    "id": "piFzh10hAGGE"
   },
   "source": [
    "### CS 4501 Machine Learning - Department of Computer Science - University of Virginia\n",
    "\"The original MNIST dataset contains a lot of handwritten digits. Members of the AI/ML/Data Science community love this dataset and use it as a benchmark to validate their algorithms. In fact, MNIST is often the first dataset researchers try. \"If it doesn't work on MNIST, it won't work at all\", they said. \"Well, if it does work on MNIST, it may still fail on others.\" - **Zalando Research, Github Repo.**\"\n",
    "\n",
    "Fashion-MNIST is a dataset from the Zalando's article. Each example is a 28x28 grayscale image, associated with a label from 10 classes. They intend Fashion-MNIST to serve as a direct drop-in replacement for the original MNIST dataset for benchmarking machine learning algorithms.\n",
    "\n",
    "![Here's an example how the data looks (each class takes three-rows):](https://github.com/zalandoresearch/fashion-mnist/raw/master/doc/img/fashion-mnist-sprite.png)\n",
    "\n",
    "In this assignment, you will attempt to benchmark the Fashion-MNIST using Neural Networks. You must use it to train some neural networks on TensorFlow and predict the final output of 10 classes. For deliverables, you must write code in Python and submit this Jupyter Notebook file (.ipynb) to earn a total of 100 pts. You will gain points depending on how you perform in the following sections.\n"
   ]
  },
  {
   "cell_type": "code",
   "execution_count": 1,
   "metadata": {
    "colab": {},
    "colab_type": "code",
    "id": "469YvvIzAGGJ"
   },
   "outputs": [],
   "source": [
    "# You might want to use the following packages\n",
    "import numpy as np\n",
    "import os\n",
    "import tensorflow as tf\n",
    "tf.logging.set_verbosity(tf.logging.ERROR) #reduce annoying warning messages\n",
    "from functools import partial\n",
    "\n",
    "# to make this notebook's output stable across runs\n",
    "def reset_graph(seed=42):\n",
    "    tf.reset_default_graph()\n",
    "    tf.set_random_seed(seed)\n",
    "    np.random.seed(seed)\n"
   ]
  },
  {
   "cell_type": "markdown",
   "metadata": {
    "colab_type": "text",
    "id": "t-PtpH4xAGGG"
   },
   "source": [
    "---\n",
    "## 1. PRE-PROCESSING THE DATA (10 pts)\n",
    "\n",
    "You can load the Fashion MNIST directly from Tensorflow. **Partition of the dataset** so that you will have 50,000 examples for training, 10,000 examples for validation, and 10,000 examples for testing. Also, make sure that you platten out each of examples so that it contains only a 1-D feature vector.\n",
    "\n",
    "Write some code to output the dimensionalities of each partition (train, validation, and test sets).\n",
    "\n"
   ]
  },
  {
   "cell_type": "code",
   "execution_count": 2,
   "metadata": {
    "colab": {},
    "colab_type": "code",
    "id": "Z2-Ilkesfm7Z"
   },
   "outputs": [
    {
     "name": "stdout",
     "output_type": "stream",
     "text": [
      "50000\n",
      "10000\n",
      "10000\n"
     ]
    }
   ],
   "source": [
    "# Your code goes here for this section.\n",
    "fmnist = tf.keras.datasets.fashion_mnist.load_data();\n",
    "\n",
    "(X_train, y_train), (X_test, y_test) = fmnist\n",
    "X_train = X_train.astype(np.float32).reshape(-1, 28*28) / 255.0\n",
    "X_test = X_test.astype(np.float32).reshape(-1, 28*28) / 255.0\n",
    "y_train = y_train.astype(np.int32)\n",
    "y_test = y_test.astype(np.int32)\n",
    "X_valid, X_train = X_train[:10000], X_train[10000:]\n",
    "y_valid, y_train = y_train[:10000], y_train[10000:]\n",
    "print(len(X_train))\n",
    "print(len(X_test))\n",
    "print(len(X_valid))"
   ]
  },
  {
   "cell_type": "markdown",
   "metadata": {
    "colab_type": "text",
    "id": "Na4CpxLBAGGP"
   },
   "source": [
    "- - -\n",
    "## 2. CONSTRUCTION PHASE (30 pts)\n",
    "\n",
    "In this section, define at least three neural networks with different structures. Make sure that the input layer has the right number of inputs. The best structure often is found through a process of trial and error experimentation:\n",
    "- You may start with a fully connected network structure with two hidden layers.\n",
    "- You may try a few settings of the number of nodes in each layer.\n",
    "- You may try a few activation functions to see if they affect the performance.\n",
    "\n",
    "**Important Implementation Note:** For the purpose of learning Tensorflow, you must use low-level TensorFlow API to construct the network. Usage of high-level tools (ie. Keras) is not permited. "
   ]
  },
  {
   "cell_type": "code",
   "execution_count": 3,
   "metadata": {
    "colab": {},
    "colab_type": "code",
    "id": "bIJrHPVlAGGQ"
   },
   "outputs": [
    {
     "data": {
      "text/plain": [
       "'Beginning here'"
      ]
     },
     "execution_count": 3,
     "metadata": {},
     "output_type": "execute_result"
    }
   ],
   "source": [
    "# Your code goes here\n",
    "reset_graph()\n",
    "\n",
    "def leaky_relu(z, name=None):\n",
    "    return tf.maximum(0.01 * z, z, name=name)\n",
    "\n",
    "# Set some configuration here\n",
    "n_inputs = 28*28  # Fashion-MNIST\n",
    "learning_rate = 0.01\n",
    "n_outputs = 10\n",
    "\n",
    "# Construct placeholder for the input layer\n",
    "X = tf.placeholder(tf.float32, shape=(None, n_inputs), name=\"X\")\n",
    "y = tf.placeholder(tf.int32, shape=(None), name=\"y\")\n",
    "\n",
    "\"Beginning here\""
   ]
  },
  {
   "cell_type": "code",
   "execution_count": 4,
   "metadata": {
    "colab": {},
    "colab_type": "code",
    "id": "iDrFp7KKils6"
   },
   "outputs": [],
   "source": [
    "with tf.name_scope(\"dnn1\"):\n",
    "    #implementation of the first net here\n",
    "    n_hidden1 = 300\n",
    "    n_hidden2 = 100\n",
    "    hidden1 = tf.layers.dense(X, n_hidden1, activation=leaky_relu, name=\"hidden1\")\n",
    "    hidden2 = tf.layers.dense(hidden1, n_hidden2, activation=leaky_relu, name=\"hidden2\")\n",
    "    dnn1_logits = tf.layers.dense(hidden2, n_outputs, name=\"outputs\")"
   ]
  },
  {
   "cell_type": "code",
   "execution_count": 5,
   "metadata": {
    "colab": {},
    "colab_type": "code",
    "id": "luyNllyVkNxr"
   },
   "outputs": [],
   "source": [
    "with tf.name_scope(\"dnn2\"):\n",
    "    #implementation of the second net here\n",
    "    n_hidden1 = 300\n",
    "    n_hidden2 = 100\n",
    "    n_hidden3 = 50\n",
    "    hidden1 = tf.layers.dense(X, n_hidden1, activation=leaky_relu, name=\"dnn2_hidden1\")\n",
    "    hidden2 = tf.layers.dense(hidden1, n_hidden2, activation=tf.nn.elu, name=\"dnn2_hidden2\")\n",
    "    hidden3 = tf.layers.dense(hidden2, n_hidden3, activation=tf.nn.elu, name=\"dnn2_hidden3\")\n",
    "    dnn2_logits = tf.layers.dense(hidden3, n_outputs, name=\"dnn2_outputs\")"
   ]
  },
  {
   "cell_type": "code",
   "execution_count": 6,
   "metadata": {
    "colab": {},
    "colab_type": "code",
    "id": "JuvjZeJekP4-"
   },
   "outputs": [],
   "source": [
    "with tf.name_scope(\"dnn3\"):\n",
    "    #implementation of the third net here\n",
    "    n_hidden1 = 150\n",
    "    n_hidden2 = 50\n",
    "    hidden1 = tf.layers.dense(X, n_hidden1, activation=tf.nn.elu, name=\"dnn3_hidden1\")\n",
    "    hidden2 = tf.layers.dense(hidden1, n_hidden2, activation=tf.nn.elu, name=\"dnn3_hidden2\")\n",
    "    dnn3_logits = tf.layers.dense(hidden2, n_outputs, name=\"dnn3_outputs\")"
   ]
  },
  {
   "cell_type": "code",
   "execution_count": 7,
   "metadata": {
    "colab": {},
    "colab_type": "code",
    "id": "_mQCboA8ijWK"
   },
   "outputs": [],
   "source": [
    "with tf.name_scope(\"loss\"):\n",
    "    #implementation of the loss function net here\n",
    "    dnn1_xentropy = tf.nn.sparse_softmax_cross_entropy_with_logits(labels=y, logits=dnn1_logits)\n",
    "    dnn2_xentropy = tf.nn.sparse_softmax_cross_entropy_with_logits(labels=y, logits=dnn2_logits)\n",
    "    dnn3_xentropy = tf.nn.sparse_softmax_cross_entropy_with_logits(labels=y, logits=dnn3_logits)\n",
    "    dnn1_loss = tf.reduce_mean(dnn1_xentropy, name=\"dnn1_loss\")\n",
    "    dnn2_loss = tf.reduce_mean(dnn2_xentropy, name=\"dnn2_loss\")\n",
    "    dnn3_loss = tf.reduce_mean(dnn3_xentropy, name=\"dnn3_loss\")"
   ]
  },
  {
   "cell_type": "code",
   "execution_count": 8,
   "metadata": {
    "code_folding": [],
    "colab": {},
    "colab_type": "code",
    "id": "GL_cXX09ih12"
   },
   "outputs": [],
   "source": [
    "with tf.name_scope(\"train\"):\n",
    "    #implementation of the training optimizer here\n",
    "    dnn1_optimizer = tf.train.GradientDescentOptimizer(learning_rate)\n",
    "    dnn1_training_op = dnn1_optimizer.minimize(dnn1_loss)\n",
    "    \n",
    "    dnn2_optimizer = tf.train.GradientDescentOptimizer(learning_rate)\n",
    "    dnn2_training_op = dnn2_optimizer.minimize(dnn2_loss)\n",
    "    \n",
    "    dnn3_optimizer = tf.train.GradientDescentOptimizer(learning_rate)\n",
    "    dnn3_training_op = dnn3_optimizer.minimize(dnn3_loss)"
   ]
  },
  {
   "cell_type": "code",
   "execution_count": 9,
   "metadata": {},
   "outputs": [],
   "source": [
    "with tf.name_scope(\"eval\"):\n",
    "    #implementation of the evaluation procedure here\n",
    "    dnn1_correct = tf.nn.in_top_k(dnn1_logits, y, 1)\n",
    "    dnn1_accuracy = tf.reduce_mean(tf.cast(dnn1_correct, tf.float32))\n",
    "    \n",
    "    dnn2_correct = tf.nn.in_top_k(dnn2_logits, y, 1)\n",
    "    dnn2_accuracy = tf.reduce_mean(tf.cast(dnn2_correct, tf.float32))\n",
    "    \n",
    "    dnn3_correct = tf.nn.in_top_k(dnn3_logits, y, 1)\n",
    "    dnn3_accuracy = tf.reduce_mean(tf.cast(dnn3_correct, tf.float32))"
   ]
  },
  {
   "cell_type": "markdown",
   "metadata": {
    "colab": {},
    "colab_type": "code",
    "id": "EfKWL5IZigJg"
   },
   "source": []
  },
  {
   "cell_type": "markdown",
   "metadata": {
    "colab_type": "text",
    "id": "SKcVSGXOAGGT"
   },
   "source": [
    "- - -\n",
    "## 3. EXECUTION PHASE (30 pts)\n",
    "\n",
    "After you construct the three models of neural networks, you can compute the performance measure as the class accuracy. You will need to define the number of epochs and size of the training batch. You also might need to reset the graph each time your try a different model. To save time and avoid retraining, you should save the trained model and load it from disk to evaluate a test set. Pick the best model and answer the following:\n",
    "- Which model yields the best performance measure for your dataset? Provide a reason why it yields the best performance.\n",
    "- Why did you pick this many hidden layers?\n",
    "- Provide some justifiable reasons for selecting the number of neurons per hidden layers. \n",
    "- Which activation functions did you use?\n",
    "\n",
    "In the next session you will get a chance to finetune it further .\n",
    "\n"
   ]
  },
  {
   "cell_type": "code",
   "execution_count": 10,
   "metadata": {
    "colab": {},
    "colab_type": "code",
    "id": "NGDKdeZzAGGV"
   },
   "outputs": [],
   "source": [
    "# Your code goes here\n",
    "init = tf.global_variables_initializer()\n",
    "saver = tf.train.Saver()\n",
    "\n",
    "n_epochs = 20\n",
    "batch_size = 100\n",
    "\n",
    "# shuffle_batch() shuffle the examples in a batch before training\n",
    "def shuffle_batch(X, y, batch_size):\n",
    "    rnd_idx = np.random.permutation(len(X))\n",
    "    n_batches = len(X) // batch_size\n",
    "    for batch_idx in np.array_split(rnd_idx, n_batches):\n",
    "        X_batch, y_batch = X[batch_idx], y[batch_idx]\n",
    "        yield X_batch, y_batch\n"
   ]
  },
  {
   "cell_type": "code",
   "execution_count": 11,
   "metadata": {
    "code_folding": [],
    "colab": {},
    "colab_type": "code",
    "id": "MKMqf1gijPwW"
   },
   "outputs": [
    {
     "name": "stdout",
     "output_type": "stream",
     "text": [
      "0 Batch accuracy: 0.75 Validation accuracy: 0.7766\n",
      "5 Batch accuracy: 0.89 Validation accuracy: 0.8396\n",
      "10 Batch accuracy: 0.82 Validation accuracy: 0.8576\n",
      "15 Batch accuracy: 0.87 Validation accuracy: 0.8659\n"
     ]
    }
   ],
   "source": [
    "with tf.Session() as sess:\n",
    "    init.run()\n",
    "    for epoch in range(n_epochs):\n",
    "        for X_batch, y_batch in shuffle_batch(X_train, y_train, batch_size):\n",
    "            sess.run(dnn1_training_op, feed_dict={X: X_batch, y: y_batch})\n",
    "        if epoch % 5 == 0:\n",
    "            acc_batch = dnn1_accuracy.eval(feed_dict={X: X_batch, y: y_batch})\n",
    "            acc_valid = dnn1_accuracy.eval(feed_dict={X: X_valid, y: y_valid})\n",
    "            print(epoch, \"Batch accuracy:\", acc_batch, \"Validation accuracy:\", acc_valid)\n",
    "\n",
    "    save_path = saver.save(sess, \"./my_dnn1_model.ckpt\")"
   ]
  },
  {
   "cell_type": "code",
   "execution_count": 12,
   "metadata": {},
   "outputs": [
    {
     "name": "stdout",
     "output_type": "stream",
     "text": [
      "0 Batch accuracy: 0.82 Validation accuracy: 0.7872\n",
      "5 Batch accuracy: 0.84 Validation accuracy: 0.8536\n",
      "10 Batch accuracy: 0.95 Validation accuracy: 0.8644\n",
      "15 Batch accuracy: 0.88 Validation accuracy: 0.8686\n"
     ]
    }
   ],
   "source": [
    "with tf.Session() as sess:\n",
    "    init.run()\n",
    "    for epoch in range(n_epochs):\n",
    "        for X_batch, y_batch in shuffle_batch(X_train, y_train, batch_size):\n",
    "            sess.run(dnn2_training_op, feed_dict={X: X_batch, y: y_batch})\n",
    "        if epoch % 5 == 0:\n",
    "            acc_batch = dnn2_accuracy.eval(feed_dict={X: X_batch, y: y_batch})\n",
    "            acc_valid = dnn2_accuracy.eval(feed_dict={X: X_valid, y: y_valid})\n",
    "            print(epoch, \"Batch accuracy:\", acc_batch, \"Validation accuracy:\", acc_valid)\n",
    "\n",
    "    save_path = saver.save(sess, \"./my_dnn2_model.ckpt\")"
   ]
  },
  {
   "cell_type": "code",
   "execution_count": 13,
   "metadata": {},
   "outputs": [
    {
     "name": "stdout",
     "output_type": "stream",
     "text": [
      "0 Batch accuracy: 0.78 Validation accuracy: 0.7824\n",
      "5 Batch accuracy: 0.78 Validation accuracy: 0.8266\n",
      "10 Batch accuracy: 0.84 Validation accuracy: 0.8509\n",
      "15 Batch accuracy: 0.86 Validation accuracy: 0.8577\n"
     ]
    }
   ],
   "source": [
    "with tf.Session() as sess:\n",
    "    init.run()\n",
    "    for epoch in range(n_epochs):\n",
    "        for X_batch, y_batch in shuffle_batch(X_train, y_train, batch_size):\n",
    "            sess.run(dnn3_training_op, feed_dict={X: X_batch, y: y_batch})\n",
    "        if epoch % 5 == 0:\n",
    "            acc_batch = dnn3_accuracy.eval(feed_dict={X: X_batch, y: y_batch})\n",
    "            acc_valid = dnn3_accuracy.eval(feed_dict={X: X_valid, y: y_valid})\n",
    "            print(epoch, \"Batch accuracy:\", acc_batch, \"Validation accuracy:\", acc_valid)\n",
    "\n",
    "    save_path = saver.save(sess, \"./my_dnn3_model.ckpt\")"
   ]
  },
  {
   "cell_type": "code",
   "execution_count": 14,
   "metadata": {
    "colab": {},
    "colab_type": "code",
    "id": "lFPM62nDjncP"
   },
   "outputs": [
    {
     "name": "stdout",
     "output_type": "stream",
     "text": [
      "0 Testing accuracy: 0.8491\n",
      "1 Testing accuracy: 0.8584\n",
      "2 Testing accuracy: 0.8498\n",
      "3 Testing accuracy: 0.8549\n",
      "4 Testing accuracy: 0.8532\n",
      "5 Testing accuracy: 0.8624\n",
      "6 Testing accuracy: 0.8631\n",
      "7 Testing accuracy: 0.8649\n",
      "8 Testing accuracy: 0.8624\n",
      "9 Testing accuracy: 0.8642\n",
      "10 Testing accuracy: 0.8645\n",
      "11 Testing accuracy: 0.865\n",
      "12 Testing accuracy: 0.8652\n",
      "13 Testing accuracy: 0.864\n",
      "14 Testing accuracy: 0.8642\n",
      "15 Testing accuracy: 0.8648\n",
      "16 Testing accuracy: 0.8653\n",
      "17 Testing accuracy: 0.8695\n",
      "18 Testing accuracy: 0.863\n",
      "19 Testing accuracy: 0.8714\n"
     ]
    }
   ],
   "source": [
    "with tf.Session() as sess:\n",
    "    saver.restore(sess, \"./my_dnn1_model.ckpt\")\n",
    "    # implementation of the test set evaluation here\n",
    "    for epoch in range(n_epochs):\n",
    "        for X_batch, y_batch in shuffle_batch(X_train, y_train, batch_size):\n",
    "            sess.run(dnn1_training_op, feed_dict={X: X_batch, y: y_batch})\n",
    "        accuracy_val = dnn1_accuracy.eval(feed_dict={X: X_test, y: y_test})\n",
    "        print(epoch, \"Testing accuracy:\", accuracy_val)\n",
    "\n",
    "    save_path = saver.save(sess, \"./my_dnn1_model_final.ckpt\") "
   ]
  },
  {
   "cell_type": "code",
   "execution_count": 15,
   "metadata": {},
   "outputs": [
    {
     "name": "stdout",
     "output_type": "stream",
     "text": [
      "0 Testing accuracy: 0.8591\n",
      "1 Testing accuracy: 0.8652\n",
      "2 Testing accuracy: 0.8653\n",
      "3 Testing accuracy: 0.8659\n",
      "4 Testing accuracy: 0.8679\n",
      "5 Testing accuracy: 0.8686\n",
      "6 Testing accuracy: 0.8687\n",
      "7 Testing accuracy: 0.8639\n",
      "8 Testing accuracy: 0.8627\n",
      "9 Testing accuracy: 0.8645\n",
      "10 Testing accuracy: 0.8663\n",
      "11 Testing accuracy: 0.8708\n",
      "12 Testing accuracy: 0.8686\n",
      "13 Testing accuracy: 0.8716\n",
      "14 Testing accuracy: 0.8693\n",
      "15 Testing accuracy: 0.8725\n",
      "16 Testing accuracy: 0.8758\n",
      "17 Testing accuracy: 0.8747\n",
      "18 Testing accuracy: 0.8733\n",
      "19 Testing accuracy: 0.8768\n"
     ]
    }
   ],
   "source": [
    "with tf.Session() as sess:\n",
    "    saver.restore(sess, \"./my_dnn2_model.ckpt\")\n",
    "    # implementation of the test set evaluation here\n",
    "    for epoch in range(n_epochs):\n",
    "        for X_batch, y_batch in shuffle_batch(X_train, y_train, batch_size):\n",
    "            sess.run(dnn2_training_op, feed_dict={X: X_batch, y: y_batch})\n",
    "        accuracy_val = dnn2_accuracy.eval(feed_dict={X: X_test, y: y_test})\n",
    "        print(epoch, \"Testing accuracy:\", accuracy_val)\n",
    "\n",
    "    save_path = saver.save(sess, \"./my_dnn2_model_final.ckpt\") "
   ]
  },
  {
   "cell_type": "code",
   "execution_count": 16,
   "metadata": {},
   "outputs": [
    {
     "name": "stdout",
     "output_type": "stream",
     "text": [
      "0 Testing accuracy: 0.8493\n",
      "1 Testing accuracy: 0.851\n",
      "2 Testing accuracy: 0.8469\n",
      "3 Testing accuracy: 0.853\n",
      "4 Testing accuracy: 0.8521\n",
      "5 Testing accuracy: 0.8546\n",
      "6 Testing accuracy: 0.8502\n",
      "7 Testing accuracy: 0.8492\n",
      "8 Testing accuracy: 0.852\n",
      "9 Testing accuracy: 0.8536\n",
      "10 Testing accuracy: 0.8556\n",
      "11 Testing accuracy: 0.856\n",
      "12 Testing accuracy: 0.8545\n",
      "13 Testing accuracy: 0.8529\n",
      "14 Testing accuracy: 0.8563\n",
      "15 Testing accuracy: 0.8599\n",
      "16 Testing accuracy: 0.86\n",
      "17 Testing accuracy: 0.8592\n",
      "18 Testing accuracy: 0.8616\n",
      "19 Testing accuracy: 0.8621\n"
     ]
    }
   ],
   "source": [
    "with tf.Session() as sess:\n",
    "    saver.restore(sess, \"./my_dnn3_model.ckpt\")\n",
    "    # implementation of the test set evaluation here\n",
    "    for epoch in range(n_epochs):\n",
    "        for X_batch, y_batch in shuffle_batch(X_train, y_train, batch_size):\n",
    "            sess.run(dnn3_training_op, feed_dict={X: X_batch, y: y_batch})\n",
    "        accuracy_val = dnn3_accuracy.eval(feed_dict={X: X_test, y: y_test})\n",
    "        print(epoch, \"Testing accuracy:\", accuracy_val)\n",
    "\n",
    "    save_path = saver.save(sess, \"./my_dnn3_model_final.ckpt\") "
   ]
  },
  {
   "cell_type": "code",
   "execution_count": 17,
   "metadata": {
    "colab": {},
    "colab_type": "code",
    "id": "snnavcm0urN8"
   },
   "outputs": [],
   "source": [
    "# print out the final accuracy here"
   ]
  },
  {
   "cell_type": "markdown",
   "metadata": {
    "colab_type": "text",
    "id": "-s2zv1SrAGGY"
   },
   "source": [
    "- - -\n",
    "## 4. FINETUNING THE NETWORK (25 pts)\n",
    "\n",
    "The best performance on the Fashion MNIST of a non-neural-net classifier is the Support Vector Classifier {\"C\":10,\"kernel\":\"poly\"} with 0.897 accuracy. In this section, you will see how close you can get to that accuracy, or (better yet) beat it! You will be able to see the performance of other ML methods below:\n",
    "http://fashion-mnist.s3-website.eu-central-1.amazonaws.com\n",
    "\n",
    "Use the best model from the previous section and see if you can improve it further. To improve the performance of your model, You must make some modifications based upon the practical guidelines discuss in class. Here are a few decisions about the recommended network configurations you have to make:\n",
    "1. Initialization: Use He Initialization for your model\n",
    "2. Activation: Add ELU as the activation function throughout your hidden layers\n",
    "3. Normalization: Incorporate the batch normalization at every layer\n",
    "4. Regularization: Configure the dropout policy at 50% rate\n",
    "5. Optimization: Change Gradient Descent into Adam Optimization\n",
    "6. Your choice: make any other changes in 1-5 you deem necessary\n",
    "\n",
    "Keep in mind that the execution phase is essentially the same, so you can just run it from the above. See how much you gain in classification accuracy. Provide some justifications for the gain in performance. \n",
    "\n",
    "\n",
    "\n",
    "\n"
   ]
  },
  {
   "cell_type": "code",
   "execution_count": 11,
   "metadata": {
    "colab": {},
    "colab_type": "code",
    "id": "hjDXZ5ws6Zpx"
   },
   "outputs": [],
   "source": [
    "reset_graph()\n",
    "\n",
    "X = tf.placeholder(tf.float32, shape=(None, n_inputs), name=\"X\")\n",
    "y = tf.placeholder(tf.int32, shape=(None), name=\"y\")\n",
    "training = tf.placeholder_with_default(False, shape=(), name='training')\n",
    "batch_norm_momentum = 0.9\n",
    "\n",
    "with tf.name_scope(\"dnnBenchmark\"):\n",
    "    # implementation of the new benchmarking DNN here\n",
    "    he_init = tf.variance_scaling_initializer()\n",
    "\n",
    "    my_batch_norm_layer = partial(\n",
    "            tf.layers.batch_normalization,\n",
    "            training=training,\n",
    "            momentum=batch_norm_momentum)\n",
    "\n",
    "    my_dense_layer = partial(\n",
    "            tf.layers.dense,\n",
    "            kernel_initializer=he_init)\n",
    "    \n",
    "    n_hidden1 = 300\n",
    "    n_hidden2 = 100\n",
    "    n_hidden3 = 50\n",
    "    \n",
    "    hidden1 = my_dense_layer(X, n_hidden1, name=\"dnnBenchmark_hidden1\")\n",
    "    bn1 = tf.nn.elu(my_batch_norm_layer(hidden1))\n",
    "    hidden2 = my_dense_layer(bn1, n_hidden2, name=\"dnnBenchmark_hidden2\")\n",
    "    bn2 = tf.nn.elu(my_batch_norm_layer(hidden2))\n",
    "    hidden3 = my_dense_layer(bn2, n_hidden3, name=\"dnnBenchmark_hidden3\")\n",
    "    bn3 = tf.nn.elu(my_batch_norm_layer(hidden3))\n",
    "    logits_before_bn = tf.layers.dense(bn3, n_outputs, name=\"dnnBenchmark_outputs\")\n",
    "    dnnBenchmark_logits = my_batch_norm_layer(logits_before_bn)\n",
    "    \n",
    "with tf.name_scope(\"loss\"):\n",
    "    dnnBenchmark_xentropy = tf.nn.sparse_softmax_cross_entropy_with_logits(labels=y, logits=dnnBenchmark_logits)\n",
    "    dnnBenchmark_loss = tf.reduce_mean(dnnBenchmark_xentropy, name=\"dnnBenchmark_loss\")\n",
    "    \n",
    "with tf.name_scope(\"train\"):\n",
    "    dnnBenchmark_optimizer = tf.train.AdamOptimizer(learning_rate=learning_rate)\n",
    "    dnnBenchmark_training_op = dnnBenchmark_optimizer.minimize(dnnBenchmark_loss)\n",
    "    \n",
    "with tf.name_scope(\"eval\"):\n",
    "    dnnBenchmark_correct = tf.nn.in_top_k(dnnBenchmark_logits, y, 1)\n",
    "    dnnBenchmark_accuracy = tf.reduce_mean(tf.cast(dnnBenchmark_correct, tf.float32))"
   ]
  },
  {
   "cell_type": "code",
   "execution_count": 14,
   "metadata": {},
   "outputs": [
    {
     "name": "stdout",
     "output_type": "stream",
     "text": [
      "0 Validation accuracy: 0.8341\n",
      "1 Validation accuracy: 0.8527\n",
      "2 Validation accuracy: 0.8594\n",
      "3 Validation accuracy: 0.8614\n",
      "4 Validation accuracy: 0.871\n",
      "5 Validation accuracy: 0.8743\n",
      "6 Validation accuracy: 0.8766\n",
      "7 Validation accuracy: 0.8789\n",
      "8 Validation accuracy: 0.8763\n",
      "9 Validation accuracy: 0.8789\n",
      "10 Validation accuracy: 0.8868\n",
      "11 Validation accuracy: 0.8866\n",
      "12 Validation accuracy: 0.8871\n",
      "13 Validation accuracy: 0.8887\n",
      "14 Validation accuracy: 0.8793\n",
      "15 Validation accuracy: 0.8858\n",
      "16 Validation accuracy: 0.879\n",
      "17 Validation accuracy: 0.8853\n",
      "18 Validation accuracy: 0.8825\n",
      "19 Validation accuracy: 0.8857\n"
     ]
    }
   ],
   "source": [
    "extra_update_ops = tf.get_collection(tf.GraphKeys.UPDATE_OPS)\n",
    "init = tf.global_variables_initializer()\n",
    "saver = tf.train.Saver()\n",
    "\n",
    "with tf.Session() as sess:\n",
    "    init.run()\n",
    "    for epoch in range(n_epochs):\n",
    "        for X_batch, y_batch in shuffle_batch(X_train, y_train, batch_size):\n",
    "            sess.run([dnnBenchmark_training_op, extra_update_ops],\n",
    "                     feed_dict={training: True, X: X_batch, y: y_batch})\n",
    "        accuracy_val = dnnBenchmark_accuracy.eval(feed_dict={X: X_valid, y: y_valid})\n",
    "        print(epoch, \"Validation accuracy:\", accuracy_val)\n",
    "\n",
    "    save_path = saver.save(sess, \"./my_dnnBenchmark_model.ckpt\")"
   ]
  },
  {
   "cell_type": "code",
   "execution_count": 15,
   "metadata": {},
   "outputs": [
    {
     "name": "stdout",
     "output_type": "stream",
     "text": [
      "0 Testing accuracy: 0.8753\n",
      "1 Testing accuracy: 0.8702\n",
      "2 Testing accuracy: 0.8801\n",
      "3 Testing accuracy: 0.8772\n",
      "4 Testing accuracy: 0.8839\n",
      "5 Testing accuracy: 0.8797\n",
      "6 Testing accuracy: 0.8818\n",
      "7 Testing accuracy: 0.8695\n",
      "8 Testing accuracy: 0.8816\n",
      "9 Testing accuracy: 0.8822\n",
      "10 Testing accuracy: 0.8881\n",
      "11 Testing accuracy: 0.8839\n",
      "12 Testing accuracy: 0.8721\n",
      "13 Testing accuracy: 0.8819\n",
      "14 Testing accuracy: 0.8834\n",
      "15 Testing accuracy: 0.8794\n",
      "16 Testing accuracy: 0.8817\n",
      "17 Testing accuracy: 0.8797\n",
      "18 Testing accuracy: 0.8895\n",
      "19 Testing accuracy: 0.8837\n"
     ]
    }
   ],
   "source": [
    "with tf.Session() as sess:\n",
    "    saver.restore(sess, \"./my_dnnBenchmark_model.ckpt\")\n",
    "    # implementation of the test set evaluation here\n",
    "    for epoch in range(n_epochs):\n",
    "        for X_batch, y_batch in shuffle_batch(X_train, y_train, batch_size):\n",
    "            sess.run(dnnBenchmark_training_op, feed_dict={X: X_batch, y: y_batch})\n",
    "        accuracy_val = dnnBenchmark_accuracy.eval(feed_dict={X: X_test, y: y_test})\n",
    "        print(epoch, \"Testing accuracy:\", accuracy_val)\n",
    "\n",
    "    save_path = saver.save(sess, \"./my_dnnBenchmark_model_final.ckpt\") "
   ]
  },
  {
   "cell_type": "markdown",
   "metadata": {
    "colab_type": "text",
    "id": "04jsbI9TAGGY"
   },
   "source": [
    "- - -\n",
    "## 5. OUTLOOK (5 pts)\n",
    "\n",
    "Plan for the outlook of your system: This may lead to the direction of your future project:\n",
    "- Did your neural network outperform other \"traditional ML technique? Why/why not?\n",
    "- Does your model work well? If not, which model should be further investigated?\n",
    "- Do you satisfy with your system? What do you think needed to improve?\n",
    "\n"
   ]
  },
  {
   "cell_type": "markdown",
   "metadata": {},
   "source": [
    "## Did your neural network outperform other \"traditional ML technique? Why/why not?\n",
    "\n",
    "#### It did not, however it got very close to beating the best with an accuracy rating of 0.895 at its peak. I think this is very good, especially given the far less time for training it needed. Whereas the traditional training took on the scale of hours, this was done in about twenty seconds and got to testing in that time with nearly as good of a accuracy score. I believe if I were to invest the time, I could easily get it to cross 0.897. This is because DNN's are inherently better at these classification tasks. The complexity and intracacy of the structure of the neural networks allow them to thrive in image classification.\n",
    "\n",
    "## Does your model work well? If not, which model should be further investigated?\n",
    "\n",
    "#### Yes it does work well. My second model with three layers worked the best initially. Then it added He initialization along with ELU and Adam optimization and this boosted the score by a few percentage points. The difference was not staggering since the first model already performed decently.  But in terms of best models, it got a lot closer to that ceiling of 0.897 of non-neural networks model.\n",
    "\n",
    "## Do you satisfy with your system? What do you think needed to improve?\n",
    "\n",
    "#### Yes I am very satisfied. It was a rewarding experience in comparison to the time put in to configure  it. I think it can be easily improved upon. However, for the amount of work I did, I think my model performs much better than I could have ever dreamed of. Having only put in about four hours of work to build a SVM to classify these images would not have gotten me anywhere near this success rate."
   ]
  },
  {
   "cell_type": "markdown",
   "metadata": {
    "colab_type": "text",
    "id": "zS9PKaL4AGGZ"
   },
   "source": [
    "- - - \n",
    "### NEED HELP?"
   ]
  },
  {
   "cell_type": "markdown",
   "metadata": {
    "colab_type": "text",
    "id": "T0vuIEBDAGGa"
   },
   "source": [
    "In case you get stuck in any step in the process, you may find some useful information from:\n",
    "\n",
    " * Consult my lectures and/or the textbook\n",
    " * Talk to the TA, they are available and there to help you during OH\n",
    " * Come talk to me or email me <nn4pj@virginia.edu> with subject starting \"CS4501 Assignment 4:...\".\n",
    " * More on the Fashion-MNIST to be found here: https://hanxiao.github.io/2018/09/28/Fashion-MNIST-Year-In-Review/\n",
    "\n",
    "Best of luck and have fun!"
   ]
  },
  {
   "cell_type": "code",
   "execution_count": null,
   "metadata": {
    "colab": {},
    "colab_type": "code",
    "id": "cH_mulWEAGGb"
   },
   "outputs": [],
   "source": []
  }
 ],
 "metadata": {
  "colab": {
   "collapsed_sections": [],
   "name": "CS 4501 Assignment 4.ipynb",
   "provenance": [
    {
     "file_id": "1hQZ4t2l5aFDO0sEs213HsV547c_tH6TL",
     "timestamp": 1554445243544
    }
   ],
   "version": "0.3.2"
  },
  "kernelspec": {
   "display_name": "Python 3",
   "language": "python",
   "name": "python3"
  },
  "language_info": {
   "codemirror_mode": {
    "name": "ipython",
    "version": 3
   },
   "file_extension": ".py",
   "mimetype": "text/x-python",
   "name": "python",
   "nbconvert_exporter": "python",
   "pygments_lexer": "ipython3",
   "version": "3.7.0"
  }
 },
 "nbformat": 4,
 "nbformat_minor": 1
}
