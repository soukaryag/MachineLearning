{
 "cells": [
  {
   "cell_type": "markdown",
   "metadata": {},
   "source": [
    "# Assignment 1: Comparison of Multivariate Linear Regression Models\n",
    "## Soukarya Ghosh (sg4fz)"
   ]
  },
  {
   "cell_type": "markdown",
   "metadata": {},
   "source": [
    "### CS 4501 Machine Learning - Department of Computer Science - University of Virginia\n",
    "*In this assignment, you will get to pick your favorite data set on Kaggle (https://kaggle.com) and implement some learning models in the context of a **regression** problem.  For references, you may refer to [my slides](https://docs.google.com/presentation/d/10D1he89peAWaFgjtZlHpUzvOOAie_vIFT95htKCKgc0/edit#slide=id.p) or Chapter 4 of the textbook if you need additional sample codes to help with your assignment. To get started, you will need to determine which dataset to download and copy it into the directory where you wish to run your implementation (ie. same folder as this file).* \n",
    "\n",
    "*For deliverables, you must write code in Python and submit **this** Jupyter Notebook file (.ipynb) to earn a total of 100 pts. You will gain points depending on how you perform in the following sections.*\n"
   ]
  },
  {
   "cell_type": "markdown",
   "metadata": {},
   "source": [
    "***\n",
    "## 1. BIG PICTURE (5 pts)\n",
    "Write a paragraph explaining the context of the problem in which you are trying to investigate. In the same paragraph, explain why you pick your dataset. Then, you MUST include the URL to the dataset to help the TA to download it (we will assume that the data file is put into the same folder as the Jupyter Notebook file). Then, you can write some code to load the CSV file and take a quick look at the dataset, and output the following:\n",
    "\n",
    " * How big is your dataset? (in terms of MB)\n",
    "     * **The dataset is 8 kb or 0.008 mb**\n",
    " * How many entries does it have?\n",
    "     * **This dataset has a total of 1000 total rows**\n",
    " * How many features does it have?\n",
    "     * **There are a total of 8 columns that will be used as features. The target column can be made into any of the three test scores. After fully pipelining te data with onehotencoder, the number of columns in the matrix will be 19 total.**\n",
    " * What are some basic statistics you can learn right away about this dataset?\n",
    "     * **Data suggests that as score for one test goes up, the scores for the other tests goes up as well**"
   ]
  },
  {
   "cell_type": "code",
   "execution_count": 1,
   "metadata": {},
   "outputs": [],
   "source": [
    "# Import some common packages\n",
    "import os\n",
    "import numpy as np\n",
    "import matplotlib\n",
    "import matplotlib.pyplot as plt\n",
    "import pandas as pd\n",
    "\n",
    "# to make this notebook's output stable across runs\n",
    "np.random.seed(42)\n",
    "\n",
    "# Ignore useless warnings (see SciPy issue #5998)\n",
    "import warnings\n",
    "warnings.filterwarnings(action=\"ignore\", message=\"^internal gelsd\")\n",
    "\n",
    "# Your code goes here for this section, make sure you also include the output to answer the above questions.\n",
    "datasetURL = \"https://www.kaggle.com/spscientist/students-performance-in-exams\"; # required url to download for CSV file. The TA will need to download the file and run your program."
   ]
  },
  {
   "cell_type": "code",
   "execution_count": 2,
   "metadata": {},
   "outputs": [
    {
     "name": "stdout",
     "output_type": "stream",
     "text": [
      "<class 'pandas.core.frame.DataFrame'>\n",
      "RangeIndex: 1000 entries, 0 to 999\n",
      "Data columns (total 8 columns):\n",
      "gender                         1000 non-null object\n",
      "race/ethnicity                 1000 non-null object\n",
      "parental level of education    1000 non-null object\n",
      "lunch                          1000 non-null object\n",
      "test preparation course        1000 non-null object\n",
      "math score                     1000 non-null int64\n",
      "reading score                  1000 non-null int64\n",
      "writing score                  1000 non-null int64\n",
      "dtypes: int64(3), object(5)\n",
      "memory usage: 62.6+ KB\n"
     ]
    }
   ],
   "source": [
    "import os\n",
    "import pandas as pd\n",
    "import numpy as np\n",
    "\n",
    "EDUCATION_PATH = \"StudentsPerformance.csv\"\n",
    "\n",
    "def load_education_data(education_path=EDUCATION_PATH):\n",
    "    return pd.read_csv(EDUCATION_PATH)\n",
    "\n",
    "education = load_education_data()\n",
    "education.info()"
   ]
  },
  {
   "cell_type": "code",
   "execution_count": 3,
   "metadata": {},
   "outputs": [
    {
     "data": {
      "text/plain": [
       "math score       1.000000\n",
       "reading score    0.817580\n",
       "writing score    0.802642\n",
       "Name: math score, dtype: float64"
      ]
     },
     "execution_count": 3,
     "metadata": {},
     "output_type": "execute_result"
    }
   ],
   "source": [
    "corr_matrix = education.corr()\n",
    "corr_matrix[\"math score\"].sort_values(ascending=False)"
   ]
  },
  {
   "cell_type": "code",
   "execution_count": 4,
   "metadata": {},
   "outputs": [
    {
     "data": {
      "text/html": [
       "<div>\n",
       "<style scoped>\n",
       "    .dataframe tbody tr th:only-of-type {\n",
       "        vertical-align: middle;\n",
       "    }\n",
       "\n",
       "    .dataframe tbody tr th {\n",
       "        vertical-align: top;\n",
       "    }\n",
       "\n",
       "    .dataframe thead th {\n",
       "        text-align: right;\n",
       "    }\n",
       "</style>\n",
       "<table border=\"1\" class=\"dataframe\">\n",
       "  <thead>\n",
       "    <tr style=\"text-align: right;\">\n",
       "      <th></th>\n",
       "      <th>math score</th>\n",
       "      <th>reading score</th>\n",
       "      <th>writing score</th>\n",
       "    </tr>\n",
       "  </thead>\n",
       "  <tbody>\n",
       "    <tr>\n",
       "      <th>count</th>\n",
       "      <td>1000.00000</td>\n",
       "      <td>1000.000000</td>\n",
       "      <td>1000.000000</td>\n",
       "    </tr>\n",
       "    <tr>\n",
       "      <th>mean</th>\n",
       "      <td>66.08900</td>\n",
       "      <td>69.169000</td>\n",
       "      <td>68.054000</td>\n",
       "    </tr>\n",
       "    <tr>\n",
       "      <th>std</th>\n",
       "      <td>15.16308</td>\n",
       "      <td>14.600192</td>\n",
       "      <td>15.195657</td>\n",
       "    </tr>\n",
       "    <tr>\n",
       "      <th>min</th>\n",
       "      <td>0.00000</td>\n",
       "      <td>17.000000</td>\n",
       "      <td>10.000000</td>\n",
       "    </tr>\n",
       "    <tr>\n",
       "      <th>25%</th>\n",
       "      <td>57.00000</td>\n",
       "      <td>59.000000</td>\n",
       "      <td>57.750000</td>\n",
       "    </tr>\n",
       "    <tr>\n",
       "      <th>50%</th>\n",
       "      <td>66.00000</td>\n",
       "      <td>70.000000</td>\n",
       "      <td>69.000000</td>\n",
       "    </tr>\n",
       "    <tr>\n",
       "      <th>75%</th>\n",
       "      <td>77.00000</td>\n",
       "      <td>79.000000</td>\n",
       "      <td>79.000000</td>\n",
       "    </tr>\n",
       "    <tr>\n",
       "      <th>max</th>\n",
       "      <td>100.00000</td>\n",
       "      <td>100.000000</td>\n",
       "      <td>100.000000</td>\n",
       "    </tr>\n",
       "  </tbody>\n",
       "</table>\n",
       "</div>"
      ],
      "text/plain": [
       "       math score  reading score  writing score\n",
       "count  1000.00000    1000.000000    1000.000000\n",
       "mean     66.08900      69.169000      68.054000\n",
       "std      15.16308      14.600192      15.195657\n",
       "min       0.00000      17.000000      10.000000\n",
       "25%      57.00000      59.000000      57.750000\n",
       "50%      66.00000      70.000000      69.000000\n",
       "75%      77.00000      79.000000      79.000000\n",
       "max     100.00000     100.000000     100.000000"
      ]
     },
     "execution_count": 4,
     "metadata": {},
     "output_type": "execute_result"
    }
   ],
   "source": [
    "education.describe()"
   ]
  },
  {
   "cell_type": "markdown",
   "metadata": {},
   "source": [
    "---\n",
    "## 2. DATA DISCOVERY, CLEANING, AND SCALING (10 pts)\n",
    "\n",
    "**Data Discover:** Plot out all correlations among the features. You may notice some features are more correlated with your predicted value than other. This information will help you confirm that weights of your regression model later on.\n",
    "\n",
    "**Data Cleaning:** If your dataset has some missing values, make sure you are able to fill those values with the Imputer class. If your dataset has categorical features, make sure you conver those features into numerical using OneHotEncoder class. \n",
    "\n",
    "**Feature Scaling** More importantly, your task is to write some codes to normalize the value of each features as follow:\n",
    "\n",
    "* Subtract the mean value of each feature from the dataset\n",
    "* Scale (divide) the feature values by their respective standard deviation\n",
    "\n",
    "Implementation Note: You will do this for all features and your code should work with datasets of all sizes (any number of features/ examples). After learning the parameters from the model, you must first normalize the new $x$ value using the mean and standard deviation that you have previously computed from the training set."
   ]
  },
  {
   "cell_type": "code",
   "execution_count": 5,
   "metadata": {},
   "outputs": [],
   "source": [
    "import matplotlib.pyplot as plt\n",
    "#education.hist(bins=50, figsize=(20,15))"
   ]
  },
  {
   "cell_type": "code",
   "execution_count": 6,
   "metadata": {},
   "outputs": [],
   "source": [
    "from sklearn.model_selection import train_test_split\n",
    "\n",
    "train_set, test_set = train_test_split(education, test_size=0.3, random_state=42)"
   ]
  },
  {
   "cell_type": "code",
   "execution_count": 7,
   "metadata": {},
   "outputs": [],
   "source": [
    "education = train_set.drop(\"math score\", axis=1)\n",
    "#education_temp = education_temp.drop(\"reading score\", axis=1)\n",
    "#education = education_temp.drop(\"writing score\", axis=1)\n",
    "education_labels = train_set[\"math score\"].copy()        #only testing math score for now"
   ]
  },
  {
   "cell_type": "code",
   "execution_count": 8,
   "metadata": {},
   "outputs": [],
   "source": [
    "from sklearn.pipeline import Pipeline\n",
    "from sklearn.preprocessing import StandardScaler\n",
    "\n",
    "num_pipeline = Pipeline([\n",
    "        ('std_scaler', StandardScaler())\n",
    "    ])"
   ]
  },
  {
   "cell_type": "code",
   "execution_count": 9,
   "metadata": {},
   "outputs": [
    {
     "name": "stderr",
     "output_type": "stream",
     "text": [
      "c:\\users\\souka\\appdata\\local\\programs\\python\\python37\\lib\\site-packages\\sklearn\\preprocessing\\data.py:625: DataConversionWarning: Data with input dtype int64 were all converted to float64 by StandardScaler.\n",
      "  return self.partial_fit(X, y)\n",
      "c:\\users\\souka\\appdata\\local\\programs\\python\\python37\\lib\\site-packages\\sklearn\\base.py:462: DataConversionWarning: Data with input dtype int64 were all converted to float64 by StandardScaler.\n",
      "  return self.fit(X, **fit_params).transform(X)\n"
     ]
    }
   ],
   "source": [
    "from sklearn.compose import ColumnTransformer\n",
    "from sklearn.preprocessing import OneHotEncoder\n",
    "\n",
    "education_num = education.drop('gender', axis=1)\n",
    "education_num = education_num.drop('race/ethnicity', axis=1)\n",
    "education_num = education_num.drop('parental level of education', axis=1)\n",
    "education_num = education_num.drop('lunch', axis=1)\n",
    "education_num = education_num.drop('test preparation course', axis=1)\n",
    "num_attribs = list(education_num)\n",
    "cat_attribs = [\"gender\", \"race/ethnicity\", \"parental level of education\", \"lunch\", \"test preparation course\"]\n",
    "\n",
    "full_pipeline = ColumnTransformer([\n",
    "        (\"num\", num_pipeline, num_attribs),\n",
    "        (\"cat\", OneHotEncoder(), cat_attribs)\n",
    "    ])\n",
    "\n",
    "\n",
    "education_prepared = (full_pipeline.fit_transform(education))"
   ]
  },
  {
   "cell_type": "code",
   "execution_count": 10,
   "metadata": {},
   "outputs": [
    {
     "data": {
      "text/plain": [
       "LinearRegression(copy_X=True, fit_intercept=True, n_jobs=None,\n",
       "         normalize=False)"
      ]
     },
     "execution_count": 10,
     "metadata": {},
     "output_type": "execute_result"
    }
   ],
   "source": [
    "from sklearn.linear_model import LinearRegression\n",
    "\n",
    "lin_reg = LinearRegression()\n",
    "lin_reg.fit(education_prepared, education_labels)"
   ]
  },
  {
   "cell_type": "code",
   "execution_count": 11,
   "metadata": {},
   "outputs": [
    {
     "data": {
      "text/plain": [
       "5.248303471123559"
      ]
     },
     "execution_count": 11,
     "metadata": {},
     "output_type": "execute_result"
    }
   ],
   "source": [
    "from sklearn.metrics import mean_squared_error\n",
    "\n",
    "education_predictions = lin_reg.predict(education_prepared)\n",
    "lin_mse = mean_squared_error(education_labels, education_predictions)\n",
    "lin_rmse = np.sqrt(lin_mse)\n",
    "lin_rmse"
   ]
  },
  {
   "cell_type": "code",
   "execution_count": 12,
   "metadata": {},
   "outputs": [
    {
     "data": {
      "text/plain": [
       "0.2988071523335984"
      ]
     },
     "execution_count": 12,
     "metadata": {},
     "output_type": "execute_result"
    }
   ],
   "source": [
    "from sklearn.tree import DecisionTreeRegressor\n",
    "\n",
    "tree_reg = DecisionTreeRegressor(random_state=42)\n",
    "tree_reg.fit(education_prepared, education_labels)\n",
    "education_predictions = tree_reg.predict(education_prepared)\n",
    "tree_mse = mean_squared_error(education_labels, education_predictions)\n",
    "tree_rmse = np.sqrt(tree_mse)\n",
    "tree_rmse"
   ]
  },
  {
   "cell_type": "code",
   "execution_count": 13,
   "metadata": {},
   "outputs": [
    {
     "name": "stderr",
     "output_type": "stream",
     "text": [
      "c:\\users\\souka\\appdata\\local\\programs\\python\\python37\\lib\\site-packages\\sklearn\\pipeline.py:451: DataConversionWarning: Data with input dtype int64 were all converted to float64 by StandardScaler.\n",
      "  Xt = transform.transform(Xt)\n"
     ]
    }
   ],
   "source": [
    "# You might want to use the following package\n",
    "from sklearn.model_selection import train_test_split\n",
    "from pandas.plotting import scatter_matrix # optional\n",
    "from sklearn.preprocessing import Imputer\n",
    "from sklearn.preprocessing import LabelEncoder\n",
    "from sklearn.preprocessing import OneHotEncoder\n",
    "from sklearn.pipeline import Pipeline\n",
    "from sklearn.preprocessing import StandardScaler\n",
    "\n",
    "# Your code goes here for this section.\n",
    "X_train = education_prepared\n",
    "y_train = education_labels\n",
    "\n",
    "\n",
    "X_test_temp = test_set.drop(\"math score\", axis=1)\n",
    "#X_test_temp = X_test_temp.drop(\"reading score\", axis=1)\n",
    "#X_test_temp = X_test_temp.drop(\"writing score\", axis=1)\n",
    "X_test_prepared = (full_pipeline.transform(X_test_temp))\n",
    "\n",
    "\n",
    "X_test = X_test_prepared\n",
    "y_test = test_set[\"math score\"].copy()"
   ]
  },
  {
   "cell_type": "markdown",
   "metadata": {},
   "source": [
    "- - -\n",
    "## 3. IMPLEMENTATION OF GRADIENT DESCENT (45 pts)\n",
    "The gradient descent formulation remain the same as one in the lecture. Keep in mind that you will need to add a column $\\textbf{x}_0$ with all 1s as part of the training data. You should write code to implement the **MyLinearRegression** class and its predefined methods. \n",
    "\n",
    "* **Gradient Descent:** Notes that you may NOT call the library linear regression which defeats the purpose of this assignment. Make sure your code supports any number of features and is well-vectorized."
   ]
  },
  {
   "cell_type": "code",
   "execution_count": 14,
   "metadata": {
    "scrolled": true
   },
   "outputs": [
    {
     "name": "stdout",
     "output_type": "stream",
     "text": [
      "Avg Error: [14.96516438]\n"
     ]
    }
   ],
   "source": [
    "# NOTE: You may not use the library Linear Regression, but implement your own!\n",
    "# REMEMBER to place self.attribute = 0 with value from your implementation\n",
    "import numpy as np\n",
    "\n",
    "class MyLinearRegression:\n",
    "    def __init__(self):\n",
    "        self.theta = np.random.randn(20,1); # parameter vector;\n",
    "        self.alpha = 0; # learning rate\n",
    "        self.cost  = []; # cost function\n",
    "  \n",
    "    def fitUsingGradientDescent(self, X_train, y_train):\n",
    "        # implementation code here\n",
    "        X_b = np.insert(X_train, 0, 1, axis=1)\n",
    "        self.alpha = 0.0001\n",
    "        self.theta, cost = self.gradientDescent(X_b, y_train.values, self.theta, self.alpha, 1)\n",
    "        lowestCost = cost\n",
    "        for oof in range(100):\n",
    "            tempT, tempCost = self.gradientDescent(X_b, y_train.values, self.theta, self.alpha, oof)\n",
    "            if tempCost < lowestCost:\n",
    "                self.theta = tempT\n",
    "        \n",
    "        # print(self.theta)\n",
    "    \n",
    "    \n",
    "    def costCalc(self, theta, X_train, y_train):\n",
    "        m = len(y_train)\n",
    "        predictions = X_train.dot(theta)\n",
    "        cost = (1/2*m)*np.sum(np.square(predictions-y_train))\n",
    "        return cost\n",
    "    \n",
    "    \n",
    "    def gradientDescent(self, X_train, y_train, theta, alpha, iters):\n",
    "        # INPUT:\n",
    "        # alpha: the learning rate\n",
    "        # iters: number of iterations\n",
    "        # \n",
    "        # OUTPUT: \n",
    "        # theta: updated value for theta\n",
    "        # cost: value of the cost function\n",
    "        #\n",
    "        # implementation code here;\n",
    "\n",
    "        eta = alpha # learning rate\n",
    "        n_iterations = iters\n",
    "        m = len(y_train)\n",
    "        y_train = y_train.reshape(700,1)\n",
    "        \n",
    "        for iteration in range(n_iterations):\n",
    "            gradients = 2/m * X_train.T.dot(X_train.dot(theta) - y_train)\n",
    "            theta = theta - eta * gradients\n",
    "            \n",
    "        costT = self.costCalc(theta, X_train, y_train)\n",
    "        self.cost.append(costT)\n",
    "\n",
    "        return theta, costT\n",
    "\n",
    "    \n",
    "    def predict(self, X_test):\n",
    "        # implementation code here \n",
    "        X_b = np.insert(X_test, 0, 1, axis=1)\n",
    "        y_predict = X_b.dot(self.theta)\n",
    "\n",
    "        return y_predict\n",
    "    \n",
    "    \n",
    "    def fitUsingNormalEquation(self, X_train, y_train):\n",
    "        # implementation code here for PART 4.\n",
    "        X_b = np.insert(X_train, 0, 1, axis=1)\n",
    "        y = y_train.values.reshape(700,1)\n",
    "        \n",
    "        self.theta = np.linalg.pinv(X_b.T.dot(X_b)).dot(X_b.T).dot(y) \n",
    "        \n",
    "        #print(self.theta)\n",
    "        \n",
    "    \n",
    "# Your code goes here to call the instance of class MyLinearRegression\n",
    "myGradientDescentModel = MyLinearRegression()\n",
    "myGradientDescentModel.fitUsingGradientDescent(X_train, y_train)\n",
    "a = myGradientDescentModel.predict(X_test)\n",
    "sum = 0\n",
    "#print(a)\n",
    "# #print(y_train.values)\n",
    "for x in range(300):\n",
    "    sum += abs(a[x] - y_train.values[x])\n",
    "    #print(a[x], y_test.values[x])\n",
    "    \n",
    "print(\"Avg Error: \" + str(sum/300))"
   ]
  },
  {
   "cell_type": "markdown",
   "metadata": {},
   "source": [
    "* **Learning Rate:** You will try out different learning rates for the dataset and find a learning rate that converges quickly. If you pick a learning rate, your plot of Cost Function $J(\\theta)$ against number of iteration will quickly decay to a small value. This also indicates that your implementation is correct. If your learning rate is too large, the cost function $J(\\theta)$ can diverge and blow up. From the below plot, you must be able to report the best learning rate the you found to earn credit for this section."
   ]
  },
  {
   "cell_type": "code",
   "execution_count": 15,
   "metadata": {
    "scrolled": true
   },
   "outputs": [
    {
     "data": {
      "text/plain": [
       "Text(0.5, 1.0, 'Error vs. Training Iterations')"
      ]
     },
     "execution_count": 15,
     "metadata": {},
     "output_type": "execute_result"
    },
    {
     "data": {
      "image/png": "[encoded data removed]",
      "text/plain": [
       "<Figure size 432x288 with 1 Axes>"
      ]
     },
     "metadata": {
      "needs_background": "light"
     },
     "output_type": "display_data"
    }
   ],
   "source": [
    "# Use the following code to plot out your learning rate\n",
    "# iters and cost must be supplied to plot out the cost function\n",
    "# You may plot multiple curves corresponding to different learning rates to justify the best one.\n",
    "\n",
    "myGradientDescentModel = MyLinearRegression()\n",
    "myGradientDescentModel.fitUsingGradientDescent(X_train, y_train)\n",
    "a = myGradientDescentModel.predict(X_test)\n",
    "\n",
    "\n",
    "plt.plot(list(range(len(myGradientDescentModel.cost))), myGradientDescentModel.cost, \"r-\")\n",
    "plt.xlabel('Iterations')  \n",
    "plt.ylabel('Cost')  \n",
    "plt.title('Error vs. Training Iterations')  "
   ]
  },
  {
   "cell_type": "markdown",
   "metadata": {},
   "source": [
    "- - -\n",
    "## 4. IMPLEMENTATION OF THE NORMAL EQUATION (10 pts)"
   ]
  },
  {
   "cell_type": "markdown",
   "metadata": {},
   "source": [
    "In my lecture, you learn that the closed form solution of linear regression using the normal equation formulation. Using the formula does not require any feature scaling, and should be straight forward to implement: \n",
    "\n",
    "$\n",
    "    \\mathbf{\\theta} = ({\\mathbf{X}^{T}\\mathbf{X}})^{-1}\\mathbf{X}^{T}\\mathbf{y}.\n",
    "$\n",
    "\n",
    "Note that you still need to add a column of 1's to the $\\mathbf{\n",
    "X}$ matrix to have an intercept term."
   ]
  },
  {
   "cell_type": "code",
   "execution_count": 16,
   "metadata": {},
   "outputs": [
    {
     "name": "stdout",
     "output_type": "stream",
     "text": [
      "Avg Error: [16.57880486]\n"
     ]
    }
   ],
   "source": [
    "# Implement the normalEquation method of the MyLinearRegression Class before execute the code below:\n",
    "myNormalEquationModel = MyLinearRegression()\n",
    "myGradientDescentModel.fitUsingNormalEquation(X_train, y_train)\n",
    "normalfit = myGradientDescentModel.predict(X_test)\n",
    "#print(normalfit)\n",
    "\n",
    "sum = 0\n",
    "for x in range(300):\n",
    "    sum += abs(normalfit[x] - y_train.values[x])\n",
    "    \n",
    "print(\"Avg Error: \" + str(sum/300))"
   ]
  },
  {
   "cell_type": "markdown",
   "metadata": {},
   "source": [
    "- - -\n",
    "## 5. COMPARISON OF DIFFERENT IMPLEMENTATIONS (20 pts)"
   ]
  },
  {
   "cell_type": "markdown",
   "metadata": {},
   "source": [
    "You should be able to evaluate and compare your gradient descent as well as normal equation implementation of linear regression. In theory, they should be the same, or at least similar. For good measures, you may also use the built-in library **Scholastic Gradient Descent (SGD)** as a third model for comparison. For each model, you must compute the Root Mean Squared Error (RMSE) as performance measure. The good news is that you can call library functions to compute these as shown below instead of writing your own code:\n",
    "\n",
    "* Which one yields the best performance measure for your dataset?\n",
    "    * **The Normal Equation implementation has the lowest error as shown by the bar graph below. Although it is only a little better than the scikit learn baked SGD.**\n",
    "* What is your assessment of the error? Good? Okay? Terrible?\n",
    "    * **This error is a little bit underwhelming. Since these are test scores with stdev of about 15 for math (shown in the first section), the error is nearly one standard deviation away from the actual score the certain student would receive. This is not very accurate for our purposes and there would hopefully need to be a better model to fit this case. While it is 'ok' for ballparking, it can not be used to make any actual predictions or analysis of the features utilized, i.e. preparation, parent education, etc. I would think decision tree would be the best for this situation of modelling.**"
   ]
  },
  {
   "cell_type": "code",
   "execution_count": 17,
   "metadata": {},
   "outputs": [
    {
     "name": "stdout",
     "output_type": "stream",
     "text": [
      "SGD MSE: 5.672107813561309\n"
     ]
    },
    {
     "name": "stderr",
     "output_type": "stream",
     "text": [
      "c:\\users\\souka\\appdata\\local\\programs\\python\\python37\\lib\\site-packages\\sklearn\\linear_model\\stochastic_gradient.py:166: FutureWarning: max_iter and tol parameters have been added in SGDRegressor in 0.19. If both are left unset, they default to max_iter=5 and tol=None. If tol is not None, max_iter defaults to max_iter=1000. From 0.21, default max_iter will be 1000, and default tol will be 1e-3.\n",
      "  FutureWarning)\n"
     ]
    },
    {
     "name": "stdout",
     "output_type": "stream",
     "text": [
      "myGradientDescentMode MSE: 8.710068641614837\n",
      "myNormalEquationMode MSE: 5.557570799195738\n"
     ]
    },
    {
     "data": {
      "image/png": "[encoded data removed]",
      "text/plain": [
       "<Figure size 432x288 with 1 Axes>"
      ]
     },
     "metadata": {
      "needs_background": "light"
     },
     "output_type": "display_data"
    }
   ],
   "source": [
    "from sklearn.metrics import mean_squared_error\n",
    "\n",
    "# Use the built-in SGD Regressor model\n",
    "from sklearn.linear_model import SGDRegressor\n",
    "mySGDModel = SGDRegressor()\n",
    "mySGDModel.fit(X_train,y_train)\n",
    "y_predict = mySGDModel.predict(X_test)\n",
    "mse = mean_squared_error(y_test, y_predict)\n",
    "mySGDModel_rmse = np.sqrt(mse)\n",
    "print(\"SGD MSE: \" + str(mySGDModel_rmse))\n",
    "\n",
    "#myGradientDescentModel_rmse\n",
    "\n",
    "myGradientDescentModel = MyLinearRegression()\n",
    "myGradientDescentModel.fitUsingGradientDescent(X_train, y_train)\n",
    "y_predict_mgd = myGradientDescentModel.predict(X_test)\n",
    "mse_mgd = mean_squared_error(y_test, y_predict_mgd)\n",
    "myGDModel_rmse = np.sqrt(mse_mgd)\n",
    "print(\"myGradientDescentMode MSE: \" + str(myGDModel_rmse))\n",
    "\n",
    "#myNormalEquationModel_rmse \n",
    "\n",
    "myNormalEquationModel = MyLinearRegression()\n",
    "myGradientDescentModel.fitUsingNormalEquation(X_train, y_train)\n",
    "y_predict_ne = myGradientDescentModel.predict(X_test)\n",
    "mse_ne = mean_squared_error(y_test, y_predict_ne)\n",
    "myNEModel_rmse = np.sqrt(mse_ne)\n",
    "print(\"myNormalEquationMode MSE: \" + str(myNEModel_rmse))\n",
    "\n",
    "\n",
    "x = np.arange(3)\n",
    "errors = [mySGDModel_rmse, myGDModel_rmse, myNEModel_rmse]\n",
    "barlist = plt.bar(x, errors)\n",
    "plt.xticks(x, ('SGD (scikit)', 'MyGD', 'MyNE'))\n",
    "plt.xlabel('Mean Squared Error')  \n",
    "plt.title('MSE by Regression Model') \n",
    "barlist[0].set_color('r')\n",
    "plt.axhline(y=mySGDModel_rmse, linewidth=1, color='k', linestyle=\"--\")\n",
    "plt.show()"
   ]
  },
  {
   "cell_type": "markdown",
   "metadata": {},
   "source": [
    "- - -\n",
    "## 6. PRESENTATION OF YOUR SOLUTION (10 pts)"
   ]
  },
  {
   "cell_type": "markdown",
   "metadata": {},
   "source": [
    "Now that you need to write a short memo of one paragraph to be read by a non-technical audience (ie. your manager/boss). Focus on answering the following: \n",
    "\n",
    "* How can you pitch your solution to this project? \n",
    "* What did you learn so far about the problem?\n",
    "* Is there any insight moving forward to improve the solution."
   ]
  },
  {
   "cell_type": "code",
   "execution_count": 20,
   "metadata": {},
   "outputs": [
    {
     "data": {
      "text/plain": [
       "'I would pitch the solution to this project as a proof of concept, showing that there exists a trend that can be \\napproximated by self evaluated preparation (confidence), parental education, demographic info, and two other exam scores.\\nBased on these criterias, if a school is able to identify a group of students as being more likely to succeed/fail on an\\nexam, they can direct resources appropriately to make sure those who are struggling can be ultimately successful. I have\\nlearned so far that the most impactful variables seem be the scores of the other exams, ideally we would want to slash \\nthese from the list as well, but for the purposes of this project, I wanted to see how they affected the overall fitting.\\nIn terms of knowledge gained, I now have a much better understanding of the whole process instead of just copy-pasting\\ncode. I can better understand what gd is doing under the hood and this will be invaluable going forward. In order to\\nimprove the solution, I believe that it will be better to scrap the use of gradient descent and look for a better algorithm,\\nsuch as decision tree. Since the categorical data is almost always binary, this lends itself well to a decision tree\\nand could yield a lower rmse. I hope to revisit this project once I have more tools under my belt, I want to be the error\\ndown to 5% within the actual test scores, not using any of the other test scores as features. If I could do that, then\\nthere could potentially be some real impactful followups being done here.'"
      ]
     },
     "execution_count": 20,
     "metadata": {},
     "output_type": "execute_result"
    }
   ],
   "source": [
    "# Your paragraph goes here for this section\n",
    "\"\"\"I would pitch the solution to this project as a proof of concept, showing that there exists a trend that can be \n",
    "approximated by self evaluated preparation (confidence), parental education, demographic info, and two other exam scores.\n",
    "Based on these criterias, if a school is able to identify a group of students as being more likely to succeed/fail on an\n",
    "exam, they can direct resources appropriately to make sure those who are struggling can be ultimately successful. I have\n",
    "learned so far that the most impactful variables seem be the scores of the other exams, ideally we would want to slash \n",
    "these from the list as well, but for the purposes of this project, I wanted to see how they affected the overall fitting.\n",
    "In terms of knowledge gained, I now have a much better understanding of the whole process instead of just copy-pasting\n",
    "code. I can better understand what gd is doing under the hood and this will be invaluable going forward. In order to\n",
    "improve the solution, I believe that it will be better to scrap the use of gradient descent and look for a better algorithm,\n",
    "such as decision tree. Since the categorical data is almost always binary, this lends itself well to a decision tree\n",
    "and could yield a lower rmse. I hope to revisit this project once I have more tools under my belt, I want to be the error\n",
    "down to 5% within the actual test scores, not using any of the other test scores as features. If I could do that, then\n",
    "there could potentially be some real impactful followups being done here.\"\"\""
   ]
  },
  {
   "cell_type": "markdown",
   "metadata": {},
   "source": [
    "- - - \n",
    "### NEED HELP?"
   ]
  },
  {
   "cell_type": "markdown",
   "metadata": {},
   "source": [
    "In case you get stuck in any step in the process, you may find some useful information from:\n",
    "\n",
    " * Consult my [slides](https://docs.google.com/presentation/d/10D1he89peAWaFgjtZlHpUzvOOAie_vIFT95htKCKgc0/edit?usp=sharing) and/or the textbook\n",
    " * Talk to the TA, they are available and there to help you during [office hour](http://bit.ly/cs4501oh)\n",
    " * Come talk to me or email me <nn4pj@virginia.edu> with subject starting \"CS4501 Assignment 1:...\".\n",
    "\n",
    "Best of luck and have fun!"
   ]
  },
  {
   "cell_type": "code",
   "execution_count": null,
   "metadata": {},
   "outputs": [],
   "source": []
  },
  {
   "cell_type": "code",
   "execution_count": null,
   "metadata": {},
   "outputs": [],
   "source": []
  }
 ],
 "metadata": {
  "kernelspec": {
   "display_name": "Python 3",
   "language": "python",
   "name": "python3"
  },
  "language_info": {
   "codemirror_mode": {
    "name": "ipython",
    "version": 3
   },
   "file_extension": ".py",
   "mimetype": "text/x-python",
   "name": "python",
   "nbconvert_exporter": "python",
   "pygments_lexer": "ipython3",
   "version": "3.7.0"
  }
 },
 "nbformat": 4,
 "nbformat_minor": 2
}
